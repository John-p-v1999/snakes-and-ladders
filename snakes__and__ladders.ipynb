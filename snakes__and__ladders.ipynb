{
  "nbformat": 4,
  "nbformat_minor": 0,
  "metadata": {
    "colab": {
      "name": "snakes_ and _ladders.ipynb",
      "provenance": [],
      "authorship_tag": "ABX9TyOz6rhQu16JvjtHecGcNtGM",
      "include_colab_link": true
    },
    "kernelspec": {
      "name": "python3",
      "display_name": "Python 3"
    }
  },
  "cells": [
    {
      "cell_type": "markdown",
      "metadata": {
        "id": "view-in-github",
        "colab_type": "text"
      },
      "source": [
        "<a href=\"https://colab.research.google.com/github/John-p-v1999/snakes-and-ladders/blob/master/snakes__and__ladders.ipynb\" target=\"_parent\"><img src=\"https://colab.research.google.com/assets/colab-badge.svg\" alt=\"Open In Colab\"/></a>"
      ]
    },
    {
      "cell_type": "code",
      "metadata": {
        "id": "jt69N2OTUm9Y",
        "colab_type": "code",
        "colab": {}
      },
      "source": [
        "class queueentry(object):\n",
        "  def __init__(self,v=0,dist=0):\n",
        "    self.v = v #vertex number\n",
        "    self.dist=dist #distance of vertex from source\n"
      ],
      "execution_count": 11,
      "outputs": []
    },
    {
      "cell_type": "code",
      "metadata": {
        "id": "suEN__WvTaAH",
        "colab_type": "code",
        "colab": {}
      },
      "source": [
        "def MinimumDiceThrows(moves,N):\n",
        "  visited=[False]*N\n",
        "  q=queueentry(0,0)\n",
        "  visited[0]=True\n",
        "  queue=[]\n",
        "  queue.append(q)\n",
        "  while queue:\n",
        "    a=queue.pop(0)\n",
        "    v=a.v\n",
        "    if v==N-1:\n",
        "      break\n",
        "    j=v+1\n",
        "    while j<=v+6 and j<N:\n",
        "      if visited[j]==False:\n",
        "        visited[j]=True\n",
        "        b=queueentry()\n",
        "        b.dist=a.dist+1\n",
        "        b.v=moves[j] if moves[j]!=-1 else j\n",
        "        queue.append(b)\n",
        "      j+=1\n",
        "  return a.dist"
      ],
      "execution_count": 18,
      "outputs": []
    },
    {
      "cell_type": "code",
      "metadata": {
        "id": "HOSNhl81Tahd",
        "colab_type": "code",
        "colab": {}
      },
      "source": [
        "def main():\n",
        "  N= int(input(\"number of cells\"))\n",
        "  moves= [-1]*N\n",
        "\n",
        "  #change values of moves where snakes or ladders are present\n",
        "\n",
        "  moves[2]=21 # ladder at cell number 3 takes u to cell number 22\n",
        "  moves[4]=7\n",
        "  moves[10]=25\n",
        "  moves[19]=28\n",
        "\n",
        "  moves[26]=0\n",
        "  moves[20]=8\n",
        "  moves[16]=3\n",
        "  moves[18]=6\n",
        "\n",
        "  print(MinimumDiceThrows(moves,N))"
      ],
      "execution_count": 16,
      "outputs": []
    },
    {
      "cell_type": "code",
      "metadata": {
        "id": "fMKtrrDfYyHr",
        "colab_type": "code",
        "colab": {
          "base_uri": "https://localhost:8080/",
          "height": 51
        },
        "outputId": "281f5d7d-f704-408c-f96d-8217a3ba7023"
      },
      "source": [
        "if __name__=='__main__':\n",
        "  main()"
      ],
      "execution_count": 20,
      "outputs": [
        {
          "output_type": "stream",
          "text": [
            "number of cells40\n",
            "4\n"
          ],
          "name": "stdout"
        }
      ]
    }
  ]
}